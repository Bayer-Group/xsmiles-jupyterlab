{
 "cells": [
  {
   "cell_type": "markdown",
   "metadata": {},
   "source": [
    "# How to use XSMILES"
   ]
  },
  {
   "cell_type": "code",
   "execution_count": 1,
   "metadata": {},
   "outputs": [],
   "source": [
    "import xsmiles\n",
    "import json # currently XSMILES widget only accepts the python dict in json-text format"
   ]
  },
  {
   "cell_type": "code",
   "execution_count": 2,
   "metadata": {},
   "outputs": [
    {
     "name": "stdout",
     "output_type": "stream",
     "text": [
      "XSMILES-JupyterLab version: 0.2.2\n"
     ]
    }
   ],
   "source": [
    "print(\"XSMILES-JupyterLab version:\", xsmiles.__version__) "
   ]
  },
  {
   "cell_type": "markdown",
   "metadata": {
    "tags": []
   },
   "source": [
    "# Atom and Non-atom attributions - defining a simple and small molecule\n",
    "\n",
    "If you want to use default settings, the minimum input is exemplified below. It is formed by a `string`, `methods` and `attributes`.\n",
    "\n",
    "Note that `method 1` contains only 4 attributions (atom attributions) while `method 2` contains one attribution per SMILES token (atom and non-atom tokens).\n",
    "The scores vector must match the number of atoms in the molecule or the number of SMILES tokens. Non-atom attributions are set to 0.0 if they are not defined in the scores vector.\n",
    "\n",
    "The default setting calculates the `colorDomain` based on the maximum absolute value from scores: [-max_abs, 0, max_abs].\n",
    "\n",
    "In the example below, the different ranges `[-0.5, 0, 0.5]` and `[-0.3, 0, 0.3]` from each visualization happens because it considers the scores from each method separately.\n",
    "\n",
    "Note that you may enter attributes on the \"molecule\" and \"method\" levels."
   ]
  },
  {
   "cell_type": "code",
   "execution_count": 3,
   "metadata": {},
   "outputs": [
    {
     "data": {
      "application/vnd.jupyter.widget-view+json": {
       "model_id": "ffb2292e230049faa5d3238c0c07599d",
       "version_major": 2,
       "version_minor": 0
      },
      "text/plain": [
       "XSmilesWidget(molecules='[{\"string\": \"CN=C=O\", \"methods\": [{\"name\": \"method 1\", \"scores\": [0.0, 0.25, 0.0, -0.…"
      ]
     },
     "execution_count": 3,
     "metadata": {},
     "output_type": "execute_result"
    }
   ],
   "source": [
    "small_molecule = {\n",
    "        'string': \"CN=C=O\",\n",
    "        'methods': [\n",
    "            { 'name': \"method 1\", 'scores': [0.0, 0.25, 0.0, -0.5], 'attributes':{'Pred.':0.55} }, # scores.length == N of atom characters (here, CNCO)\n",
    "            { 'name': \"method 2\", 'scores': [0.05, 0.25, 0.3, 0.15, -0.15, -0.3],'attributes':{'Pred.':0.66} }, # scores.length == string.length\n",
    "        ],\n",
    "        'attributes': {\"Truth\": 0.6} # 'attributes' is mandatory in the current version. Please use an empty object if you won't add attributes: 'attributes':{}\n",
    "    }\n",
    "\n",
    "xsmiles.XSmilesWidget(molecules=json.dumps([small_molecule])) # create xsmiles object\n"
   ]
  },
  {
   "cell_type": "markdown",
   "metadata": {},
   "source": [
    "# Data structure\n",
    "\n",
    "In the code bellow you find additional information about the data format."
   ]
  },
  {
   "cell_type": "code",
   "execution_count": 4,
   "metadata": {
    "tags": []
   },
   "outputs": [
    {
     "data": {
      "application/vnd.jupyter.widget-view+json": {
       "model_id": "5f6ec86f040d4b80ab8b5088dd9fc794",
       "version_major": 2,
       "version_minor": 0
      },
      "text/plain": [
       "XSmilesWidget(molecules='[{\"string\": \"CCCCCCCC(=O)Oc1c(Br)cc(C#N)cc1Br\", \"methods\": [{\"name\": \"My XAI Method\",…"
      ]
     },
     "execution_count": 4,
     "metadata": {},
     "output_type": "execute_result"
    }
   ],
   "source": [
    "molecule = {\n",
    "          # the smiles string - (RDKit canonical)\n",
    "          'string': 'CCCCCCCC(=O)Oc1c(Br)cc(C#N)cc1Br',                   \n",
    "          \n",
    "          # Optional sequence, in case the app cannot parse your string correctly you can try and split it and input together with the original string\n",
    "          #'sequence': [\"C\",\"C\", \"C\", \"C\", \"C\", \"C\", \"C\", \"C\", \"(\", \"=\", \"O\", \")\", \"O\", \"c\", \"1\", \"c\", \"(\", \"Br\", \")\", \"c\", \"c\", \"(\", \"C\", \"#\", \"N\", \")\", \"c\", \"c\",\"1\", \"Br\" ],\n",
    "    \n",
    "          # The name of your scores's method and the scored themselves. They should have the size of sequence. \n",
    "          # If sequence is not provided, it will automatically create 'sequence' and compare with the size of scores.\n",
    "          # If they are not matching, try to provide the sequence vector manually, and a scores vector with the same size.\n",
    "          'methods': [{\n",
    "            'name': 'My XAI Method',\n",
    "            'scores': [\n",
    "              -0.1762678623199463, -0.25460100173950195, -0.2712419033050537,\n",
    "              -0.2308177947998047, -0.12025833129882812, -0.13311767578125,\n",
    "              -0.16690635681152344, -0.27755022048950195, -0.38324832916259766,\n",
    "              -0.2450413703918457, -0.3898346424102783, -0.22409844398498535,\n",
    "              -0.2113962173461914, -0.12725472450256348, -0.04010510444641113,\n",
    "              -0.01143336296081543, -0.05576324462890625, 0.18838262557983398,\n",
    "              0.0361400842666626, 0.0019290447235107422, 0.0008728504180908203,\n",
    "              -0.028931856155395508, 0.05310940742492676, 0.35703766345977783,\n",
    "              -0.16322708129882812, 0.07348740100860596, -0.037914276123046875,\n",
    "              0.0180361270904541, -0.047339677810668945, 0.06556379795074463,\n",
    "            ],\n",
    "          }],\n",
    "          # Custom attributes to be displayed under the graphic\n",
    "          # Currently it is mandatory, but you can use 'attributes': {}, if you don't have any attributes.\n",
    "          'attributes': {\n",
    "            'predicted': 5.300230503082275,          \n",
    "            'measured': 3.284126043319702,\n",
    "            'Compound ID': 'bromoxynil octanoate',\n",
    "          },\n",
    "        }\n",
    "\n",
    "\n",
    "# Set up the input: always a vector of 1 or more molecules\n",
    "molecules = [molecule]\n",
    "\n",
    "# Currently XSMILES widget only accepts the python dict in json-text format. \n",
    "# Use json.dumps():\n",
    "xsmiles.XSmilesWidget(molecules=json.dumps(molecules))\n"
   ]
  },
  {
   "cell_type": "markdown",
   "metadata": {},
   "source": [
    "# Optional sequence\n",
    "\n",
    "Here we add the `sequence`. If sequence is provided, it won't parse the `string` to find the atoms/non-atoms SMILES tokens.\n",
    "This may help if the parser can't parse your SMILES string correctly."
   ]
  },
  {
   "cell_type": "code",
   "execution_count": 5,
   "metadata": {},
   "outputs": [
    {
     "data": {
      "application/vnd.jupyter.widget-view+json": {
       "model_id": "a5a41dfe5a3d4bb08593cc2057debe9a",
       "version_major": 2,
       "version_minor": 0
      },
      "text/plain": [
       "XSmilesWidget(molecules='[{\"string\": \"CCCCCCCC(=O)Oc1c(Br)cc(C#N)cc1Br\", \"sequence\": [\"C\", \"C\", \"C\", \"C\", \"C\",…"
      ]
     },
     "execution_count": 5,
     "metadata": {},
     "output_type": "execute_result"
    }
   ],
   "source": [
    "molecule_with_sequence = {          \n",
    "          'string': 'CCCCCCCC(=O)Oc1c(Br)cc(C#N)cc1Br',\n",
    "          \n",
    "          # Optional sequence, in case the app cannot parse your string correctly you can try and split it and input together with the original string\n",
    "          'sequence': [\"C\",\"C\", \"C\", \"C\", \"C\", \"C\", \"C\", \"C\", \"(\", \"=\", \"O\", \")\", \"O\", \"c\", \"1\", \"c\", \"(\", \"Br\", \")\", \"c\", \"c\", \"(\", \"C\", \"#\", \"N\", \")\", \"c\", \"c\",\"1\", \"Br\" ],\n",
    "        \n",
    "          'methods': [{\n",
    "            'name': 'logBCF perturb',\n",
    "            'scores': [\n",
    "              -0.1762678623199463, -0.25460100173950195, -0.2712419033050537,\n",
    "              -0.2308177947998047, -0.12025833129882812, -0.13311767578125,\n",
    "              -0.16690635681152344, -0.27755022048950195, -0.38324832916259766,\n",
    "              -0.2450413703918457, -0.3898346424102783, -0.22409844398498535,\n",
    "              -0.2113962173461914, -0.12725472450256348, -0.04010510444641113,\n",
    "              -0.01143336296081543, -0.05576324462890625, 0.18838262557983398,\n",
    "              0.0361400842666626, 0.0019290447235107422, 0.0008728504180908203,\n",
    "              -0.028931856155395508, 0.05310940742492676, 0.35703766345977783,\n",
    "              -0.16322708129882812, 0.07348740100860596, -0.037914276123046875,\n",
    "              0.0180361270904541, -0.047339677810668945, 0.06556379795074463,\n",
    "            ],\n",
    "          }],\n",
    "          'attributes': {\n",
    "            'predicted': 5.300230503082275,          \n",
    "            'measured': 3.284126043319702,\n",
    "            'Compound ID': 'bromoxynil octanoate',\n",
    "          },\n",
    "        }\n",
    "\n",
    "xsmiles.XSmilesWidget(molecules=json.dumps([molecule_with_sequence]))\n"
   ]
  },
  {
   "cell_type": "code",
   "execution_count": null,
   "metadata": {},
   "outputs": [],
   "source": []
  },
  {
   "cell_type": "markdown",
   "metadata": {},
   "source": [
    "# Changing colors\n",
    "\n",
    "Use `view_config` to define if you want to show the bar chart or the attributes, and to define if you want the structure from RDKit to be colored or in black.\n",
    "\n"
   ]
  },
  {
   "cell_type": "code",
   "execution_count": 6,
   "metadata": {},
   "outputs": [],
   "source": [
    "view_config = {\n",
    "    'hideBarChart': False,\n",
    "    'hideAttributesTable': True, \n",
    "    'drawerType': 'RDKitDrawer', # Possible values RDKitDrawer (colored) or RDKitDrawer_black (black).    \n",
    "}\n"
   ]
  },
  {
   "cell_type": "markdown",
   "metadata": {},
   "source": [
    "Use `gradient_config` to change properties of the heatmap. The attributes `colorDomain` and `palette` affect the bar chart too."
   ]
  },
  {
   "cell_type": "code",
   "execution_count": 7,
   "metadata": {},
   "outputs": [
    {
     "data": {
      "application/vnd.jupyter.widget-view+json": {
       "model_id": "caf08eeef096416e8c435379da66a616",
       "version_major": 2,
       "version_minor": 0
      },
      "text/plain": [
       "XSmilesWidget(gradient_config='{\"palette\": \"PiYG_5\", \"thresholds\": [], \"colorDomain\": [-0.25, 0, 0.25], \"radiu…"
      ]
     },
     "execution_count": 7,
     "metadata": {},
     "output_type": "execute_result"
    }
   ],
   "source": [
    "molecules = [molecule]\n",
    "\n",
    "# Colors and heatmap configuration\n",
    "gradient_config = {     \n",
    "        # The available colors are intended to be colorblind friendly, but due to interpolation this may not always be the case. Please test your figures.        \n",
    "        # Available colors: name_N and name_N_reverse, for:\n",
    "        # name =  \"BrBG\", \"PiYG\", \"PRGn\", \"PuOr\", and \"RdBu\"; \n",
    "        # N = 3, 5, 7 and 9;        \n",
    "        # e.g. PRGn_5, PRGn_5_reverse,     \n",
    "        # TIP: in the demonstration website, mouse-over palettes will show their names.\n",
    "        # TIP2: if you want to give more importance to attributions close to 0.0, use N = 9 (or bigger, see section: \"Your custom palette\").\n",
    "        # Extra Bayer palettes, based on Bayer's color Identity: BayerBlRdN, BayerBlGrN, and BayerRdGrN; and their *_reverse, and their *BrightN:\n",
    "        #    e.g. BayerRdGr5_reverse, BayerRdGrBright5, BayerRdGrBright5_reverse\n",
    "        'palette': 'PiYG_5', # default: PiYG_5. \n",
    "       \n",
    "        # Recommended: [0.25], [0.5], [0.75]; other possibilities [0.25, 0.5], [0.5, 0.75], [0.25, 0.75], [0.25, 0.5, 0.75] and so on\n",
    "        'thresholds': [], #default []\n",
    "    \n",
    "        # Used to 'super' highlight what is above/below certain values.\n",
    "        # It must be always in the [negative, 0, positive], e.g. [-0.2, 0, 0.5], but we recommend \"mirroed\" values, e.g., [-0.2, 0, 0.2] instead.\n",
    "        # These are the lower and upper vaues for the \"domain\" that is considered when mapping colors and sizing the bar chart.\n",
    "        # If a score has value 1.5 and threshols are [-1, 0, 1], it will have the effect of a score 1.0.\n",
    "        # in the same range, a score 0.9 will have the effect of a score 0.9.\n",
    "        # This means the widget won't scale the scores... but consider what is below or upper a certain maximum equals to the colorDomain min/max.\n",
    "        # In the range [-1, 0, 1], scores like 1.5, 2.5, 3.0 will be represented by the same color and same-sized bars in the barchart.\n",
    "        'colorDomain': [-0.25, 0, 0.25],  #default: [-1,0,1]\n",
    "        \n",
    "        'radius': {'min': 15, 'max': 100},  #default: {'min': 15, 'max': 40}\n",
    "        'opacity': {'min': 0, 'max': 1}, #default: {'min': 0.6, 'max': 1} \n",
    "        'blur': 0.8, #default: 0.7\n",
    "      }\n",
    "\n",
    "# Currently XSMILES widget only accepts the python dict in json-text format. \n",
    "# Use json.dumps() as here:\n",
    "xsmiles.XSmilesWidget(molecules=json.dumps(molecules), gradient_config=json.dumps(gradient_config), view_config=json.dumps(view_config) )"
   ]
  },
  {
   "cell_type": "markdown",
   "metadata": {},
   "source": [
    "## Your custom palette\n",
    "\n",
    "You can define your own palette.\n",
    "\n",
    "Don't forget to check if your colors are considered ok in terms of **colorblindness**! Search for \"**online colorblind simulator**\" if you are not sure about your custom palette.\n",
    "\n",
    "Note that your color palette will be transformed with Benzir interpolation and corrected for brightness.\n",
    "\n",
    "So even when we use a crazy rainbow colormap, it won't look too crazy because the colors are transformed.\n",
    "\n",
    "Therefore, your palettes should go from stronger values (darker hues) from both right and left sides to lighter values in the middle. In other words, your palette should have only 2 main colors, one for + and one for - attributions.\n",
    "\n",
    "It should also have an odd total number of colors. E.g. [4 blues, 1 white (middle), 4 reds] = total 5 colors.\n",
    "\n",
    "The more colors it has, the smaller is the \"range\" that will be colored in light-gray.\n",
    "\n",
    "That means that if you want to give more significance to attributions close to 0.0, you need to use more colors in your palette.\n",
    "\n",
    "*The mid color will be replaced with light gray.*"
   ]
  },
  {
   "cell_type": "code",
   "execution_count": 8,
   "metadata": {},
   "outputs": [
    {
     "data": {
      "application/vnd.jupyter.widget-view+json": {
       "model_id": "ed86633f18874e849f83e8111fd1f64d",
       "version_major": 2,
       "version_minor": 0
      },
      "text/plain": [
       "XSmilesWidget(gradient_config='{\"palette\": {\"name\": \"My simple pink-green palette\", \"colors\": [\"#f605bd\", \"#mi…"
      ]
     },
     "execution_count": 8,
     "metadata": {},
     "output_type": "execute_result"
    }
   ],
   "source": [
    "# Colors and heatmap configuration\n",
    "gradient_config = {         \n",
    "        'palette': { \n",
    "                'name': 'My simple pink-green palette', \n",
    "                'colors':['#f605bd',    '#mid-color-is-not-used',    '#219b15'] \n",
    "        }\n",
    "      }\n",
    "\n",
    "xsmiles.XSmilesWidget(molecules=json.dumps(molecules), gradient_config=json.dumps(gradient_config), view_config=json.dumps(view_config) )"
   ]
  },
  {
   "cell_type": "markdown",
   "metadata": {},
   "source": [
    "## Comparing with RDKit"
   ]
  },
  {
   "cell_type": "code",
   "execution_count": 9,
   "metadata": {},
   "outputs": [
    {
     "data": {
      "image/png": "[encoded data removed]",
      "text/plain": [
       "<Figure size 300x300 with 1 Axes>"
      ]
     },
     "metadata": {},
     "output_type": "display_data"
    }
   ],
   "source": [
    "compare_with_rdkit = True #use false if you don't have it installed or don't want to\n",
    "if compare_with_rdkit:\n",
    "    import rdkit # make sure you have RDKit installed to run this notebook: pip install rdkit-pypi\n",
    "    from rdkit.Chem.Draw import SimilarityMaps\n",
    "    from io import BytesIO\n",
    "    from PIL import Image\n",
    "\n",
    "    def draw(mol, width=250, d = None):            \n",
    "        d.FinishDrawing()    \n",
    "        stream = BytesIO(d.GetDrawingText())\n",
    "        return Image.open(stream)\n",
    "\n",
    "    mol = rdkit.Chem.MolFromSmiles(molecule_with_sequence['string'])\n",
    "    smiles_scores = molecule_with_sequence['methods'][0]['scores']\n",
    "    smiles_sequence = molecule_with_sequence['sequence']\n",
    "    scores = [smiles_scores[i] for i in range(len(smiles_scores)) if smiles_sequence[i] in [\"C\",\"O\",\"c\",\"Br\",\"N\"]]  #CCCCCCCC(=O)Oc1c(Br)cc(C#N)cc1Br\n",
    "    width = 300\n",
    "\n",
    "    #GetSimilarityMapFromWeights(mol, weights, colorMap=None, scale=- 1, size=250, 250, sigma=None, coordScale=1.5, step=0.01, colors='k', contourLines=10, alpha=0.5, draw2d=None, **kwargs)¶\n",
    "    fig = SimilarityMaps.GetSimilarityMapFromWeights(mol, scores, size=(width,width), contourLines=0, scale=-1)"
   ]
  },
  {
   "cell_type": "markdown",
   "metadata": {},
   "source": [
    "### Reverse palette"
   ]
  },
  {
   "cell_type": "code",
   "execution_count": 10,
   "metadata": {
    "slideshow": {
     "slide_type": "slide"
    },
    "tags": []
   },
   "outputs": [
    {
     "data": {
      "application/vnd.jupyter.widget-view+json": {
       "model_id": "87aaa8dc1bbb45679fea794ed9532f87",
       "version_major": 2,
       "version_minor": 0
      },
      "text/plain": [
       "XSmilesWidget(gradient_config='{\"palette\": \"PiYG_5_reverse\", \"thresholds\": [0.5], \"colorDomain\": [-0.5, 0, 0.5…"
      ]
     },
     "execution_count": 10,
     "metadata": {},
     "output_type": "execute_result"
    }
   ],
   "source": [
    "# Colors and heatmap configuration\n",
    "gradient_config = {        \n",
    "        'palette': 'PiYG_5_reverse',     # <palette>_reverse  \n",
    "        'thresholds': [0.5],             # highlight with white what is above 50% from max color domain\n",
    "        'colorDomain': [-0.5, 0, 0.5], \n",
    "        'radius': {\"min\":20, \"max\":40}\n",
    "      }\n",
    "\n",
    "xsmiles.XSmilesWidget(molecules=json.dumps(molecules), gradient_config=json.dumps(gradient_config))"
   ]
  },
  {
   "cell_type": "markdown",
   "metadata": {},
   "source": [
    "# Hiding bar chart and attributes\n",
    "\n",
    "You can hide the bar chart and attributes table using the `hideBarChart` and `hideAttributesTable` options. from `view_config`.\n",
    "\n",
    "The `drawerType` will define if the structure will be colored by atom or all in black.\n"
   ]
  },
  {
   "cell_type": "code",
   "execution_count": 11,
   "metadata": {},
   "outputs": [
    {
     "data": {
      "application/vnd.jupyter.widget-view+json": {
       "model_id": "787d2f0c38cb46329d44022d91f2d806",
       "version_major": 2,
       "version_minor": 0
      },
      "text/plain": [
       "XSmilesWidget(gradient_config='{\"palette\": \"PiYG_5_reverse\", \"thresholds\": [0.5], \"colorDomain\": [-0.5, 0, 0.5…"
      ]
     },
     "execution_count": 11,
     "metadata": {},
     "output_type": "execute_result"
    }
   ],
   "source": [
    "view_config = {\n",
    "    'hideBarChart':True,\n",
    "    'hideAttributesTable': True, \n",
    "    'drawerType': 'RDKitDrawer' # Possible values RDKitDrawer (can be difficult to read) or RDKitDrawer_black (recommended). Outdated options: smilesDrawer and smilesDrawer_black\n",
    "}\n",
    "\n",
    "# Currently XSMILES widget only accepts the python dict in json-text format. \n",
    "# Use json.dumps() as here:\n",
    "xsmiles.XSmilesWidget(molecules=json.dumps(molecules), gradient_config=json.dumps(gradient_config), view_config=json.dumps(view_config) )\n"
   ]
  },
  {
   "cell_type": "markdown",
   "metadata": {},
   "source": [
    "## Showing attributions labels on the molecule diagram"
   ]
  },
  {
   "cell_type": "code",
   "execution_count": 12,
   "metadata": {},
   "outputs": [
    {
     "data": {
      "application/vnd.jupyter.widget-view+json": {
       "model_id": "31f51e2e857a4df492aa9de8658a800f",
       "version_major": 2,
       "version_minor": 0
      },
      "text/plain": [
       "XSmilesWidget(gradient_config='{\"palette\": \"PiYG_5_reverse\", \"thresholds\": [0.5], \"colorDomain\": [-0.5, 0, 0.5…"
      ]
     },
     "execution_count": 12,
     "metadata": {},
     "output_type": "execute_result"
    }
   ],
   "source": [
    "\n",
    "view_config = {\n",
    "    'hideBarChart':True,\n",
    "    'hideAttributesTable': True, \n",
    "    'showScoresOnStructure':True\n",
    "}\n",
    "\n",
    "# Currently XSMILES widget only accepts the python dict in json-text format. \n",
    "# Use json.dumps() as here:\n",
    "xsmiles.XSmilesWidget(molecules=json.dumps(molecules), gradient_config=json.dumps(gradient_config), view_config=json.dumps(view_config) )"
   ]
  },
  {
   "cell_type": "markdown",
   "metadata": {},
   "source": [
    "# Multiple molecules\n",
    "\n",
    "You can define a vector of single molecules with 1 attribution vector or a vector of molecules with multiple attribution vectors.\n",
    "\n",
    "In the following example, `molecule` is the first case. They could be different molecules. The molecules will arrange in the available space.\n",
    "\n",
    "The second case is exemplified in `small_molecule`, where we have one molecule and 2 attributions vectors."
   ]
  },
  {
   "cell_type": "code",
   "execution_count": 13,
   "metadata": {},
   "outputs": [
    {
     "data": {
      "application/vnd.jupyter.widget-view+json": {
       "model_id": "5cd6e3ec3d314275b00ee879cdcc8c67",
       "version_major": 2,
       "version_minor": 0
      },
      "text/plain": [
       "XSmilesWidget(gradient_config='{\"palette\": \"PuOr_3_reverse\", \"thresholds\": [0.5], \"colorDomain\": [-0.5, 0, 0.5…"
      ]
     },
     "execution_count": 13,
     "metadata": {},
     "output_type": "execute_result"
    }
   ],
   "source": [
    "# Multiple molecules:\n",
    "molecules = [small_molecule, molecule, molecule]\n",
    "\n",
    "# changes palette\n",
    "gradient_config[\"palette\"] = \"PuOr_3_reverse\"\n",
    "\n",
    "xsmiles.XSmilesWidget(molecules=json.dumps(molecules), gradient_config=json.dumps(gradient_config))\n"
   ]
  },
  {
   "cell_type": "markdown",
   "metadata": {},
   "source": [
    "## Loading molecules from a file\n",
    "\n",
    "There is no native feature to save or load molecules from files. You may simply save them into JSON files and reload in any notebook.\n",
    "\n",
    "If you want to see an example, please check the **Use Case 2** from our article.\n",
    "\n",
    "We prepared a Jupyter Notebook where we generate attributions and save them into a JSON file.\n",
    "\n",
    "In the end of the notebook we load this file and visualize its molecules using XSMILES."
   ]
  },
  {
   "cell_type": "code",
   "execution_count": null,
   "metadata": {},
   "outputs": [],
   "source": []
  },
  {
   "cell_type": "code",
   "execution_count": null,
   "metadata": {},
   "outputs": [],
   "source": []
  },
  {
   "cell_type": "code",
   "execution_count": null,
   "metadata": {},
   "outputs": [],
   "source": []
  }
 ],
 "metadata": {
  "kernelspec": {
   "display_name": "Python 3 (ipykernel)",
   "language": "python",
   "name": "python3"
  },
  "language_info": {
   "codemirror_mode": {
    "name": "ipython",
    "version": 3
   },
   "file_extension": ".py",
   "mimetype": "text/x-python",
   "name": "python",
   "nbconvert_exporter": "python",
   "pygments_lexer": "ipython3",
   "version": "3.8.2"
  },
  "vscode": {
   "interpreter": {
    "hash": "b2fa15ac335becbe8b8e1d254814020c34365c58b08b09fb4ebca068f3394420"
   }
  }
 },
 "nbformat": 4,
 "nbformat_minor": 4
}
